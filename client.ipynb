{
 "cells": [
  {
   "cell_type": "code",
   "execution_count": 18,
   "metadata": {},
   "outputs": [],
   "source": [
    "import uuid\n",
    "from langserve import RemoteRunnable\n",
    "import requests\n",
    "\n",
    "conversation_id = str(uuid.uuid4())\n",
    "chat = RemoteRunnable(\"http://localhost:8000\", cookies={\"user_id\": \"yakov\"})"
   ]
  },
  {
   "cell_type": "code",
   "execution_count": 19,
   "metadata": {},
   "outputs": [
    {
     "data": {
      "text/plain": [
       "AIMessage(content=\"I'm really sorry you're feeling this way. Let's take a moment to slow down and focus on the present. Can you describe your surroundings to me? What are five objects you can see right now?\", response_metadata={'token_usage': {'completion_tokens': 39, 'prompt_tokens': 903, 'total_tokens': 942}, 'model_name': 'gpt-4o-2024-05-13', 'system_fingerprint': 'fp_abc28019ad', 'finish_reason': 'stop', 'logprobs': None, 'content_filter_results': {}}, id='run-f7120c8e-74e4-490a-af4c-e0cb6b8ad6a0-0', usage_metadata={'input_tokens': 903, 'output_tokens': 39, 'total_tokens': 942})"
      ]
     },
     "execution_count": 19,
     "metadata": {},
     "output_type": "execute_result"
    }
   ],
   "source": [
    "content = chat.invoke({\"human_input\": \"I'm feeling suicidal\"}, {'configurable': { 'conversation_id': conversation_id }})\n",
    "content"
   ]
  },
  {
   "cell_type": "code",
   "execution_count": 11,
   "metadata": {},
   "outputs": [
    {
     "data": {
      "text/plain": [
       "{'391f92bb-5d82-4568-b8d3-0f96bbcf2ebe': '[{\"type\": \"human\", \"data\": {\"content\": \"I\\'m super sad\", \"additional_kwargs\": {}, \"response_metadata\": {}, \"type\": \"human\", \"name\": null, \"id\": null, \"example\": false}}, {\"type\": \"ai\", \"data\": {\"content\": \"I\\'m sorry to hear that you\\'re feeling sad. Let\\'s try a technique to help you slow down and engage your senses. Take a moment to describe five objects you can see around you.\", \"additional_kwargs\": {}, \"response_metadata\": {\"token_usage\": {\"completion_tokens\": 39, \"prompt_tokens\": 866, \"total_tokens\": 905}, \"model_name\": \"gpt-35-turbo-16k\", \"system_fingerprint\": null, \"prompt_filter_results\": [{\"prompt_index\": 0, \"content_filter_results\": {\"hate\": {\"filtered\": false, \"severity\": \"safe\"}, \"self_harm\": {\"filtered\": false, \"severity\": \"safe\"}, \"sexual\": {\"filtered\": false, \"severity\": \"safe\"}, \"violence\": {\"filtered\": false, \"severity\": \"safe\"}}}], \"finish_reason\": \"stop\", \"logprobs\": null, \"content_filter_results\": {\"hate\": {\"filtered\": false, \"severity\": \"safe\"}, \"self_harm\": {\"filtered\": false, \"severity\": \"safe\"}, \"sexual\": {\"filtered\": false, \"severity\": \"safe\"}, \"violence\": {\"filtered\": false, \"severity\": \"safe\"}}}, \"type\": \"ai\", \"name\": null, \"id\": \"run-1e5276f5-d86f-413c-bcba-dd74587155fc-0\", \"example\": false, \"tool_calls\": [], \"invalid_tool_calls\": [], \"usage_metadata\": {\"input_tokens\": 866, \"output_tokens\": 39, \"total_tokens\": 905}}}]',\n",
       " 'c2da2ac3-8336-4e37-80c0-e4cb8f2948df': '[{\"type\": \"human\", \"data\": {\"content\": \"I\\'m super sad\", \"additional_kwargs\": {}, \"response_metadata\": {}, \"type\": \"human\", \"name\": null, \"id\": null, \"example\": false}}, {\"type\": \"ai\", \"data\": {\"content\": \"I\\'m sorry to hear that you\\'re feeling sad. Take a moment to focus on your senses. Can you describe five objects that you can see around you right now?\", \"additional_kwargs\": {}, \"response_metadata\": {\"token_usage\": {\"completion_tokens\": 34, \"prompt_tokens\": 866, \"total_tokens\": 900}, \"model_name\": \"gpt-35-turbo-16k\", \"system_fingerprint\": null, \"prompt_filter_results\": [{\"prompt_index\": 0, \"content_filter_results\": {\"hate\": {\"filtered\": false, \"severity\": \"safe\"}, \"self_harm\": {\"filtered\": false, \"severity\": \"safe\"}, \"sexual\": {\"filtered\": false, \"severity\": \"safe\"}, \"violence\": {\"filtered\": false, \"severity\": \"safe\"}}}], \"finish_reason\": \"stop\", \"logprobs\": null, \"content_filter_results\": {\"hate\": {\"filtered\": false, \"severity\": \"safe\"}, \"self_harm\": {\"filtered\": false, \"severity\": \"safe\"}, \"sexual\": {\"filtered\": false, \"severity\": \"safe\"}, \"violence\": {\"filtered\": false, \"severity\": \"safe\"}}}, \"type\": \"ai\", \"name\": null, \"id\": \"run-e1838fe5-42c8-4def-8732-22c93389fefb-0\", \"example\": false, \"tool_calls\": [], \"invalid_tool_calls\": [], \"usage_metadata\": {\"input_tokens\": 866, \"output_tokens\": 34, \"total_tokens\": 900}}}]'}"
      ]
     },
     "execution_count": 11,
     "metadata": {},
     "output_type": "execute_result"
    }
   ],
   "source": [
    "#Get request to @app.get(\"/conversations/{user_id}\", response_class=JSONResponse)\n",
    "response = requests.get(f\"http://localhost:8000/conversations/yakov\")\n",
    "response.json()"
   ]
  },
  {
   "cell_type": "code",
   "execution_count": 10,
   "metadata": {},
   "outputs": [
    {
     "data": {
      "text/plain": [
       "str"
      ]
     },
     "execution_count": 10,
     "metadata": {},
     "output_type": "execute_result"
    }
   ],
   "source": []
  }
 ],
 "metadata": {
  "kernelspec": {
   "display_name": "clearmind",
   "language": "python",
   "name": "python3"
  },
  "language_info": {
   "codemirror_mode": {
    "name": "ipython",
    "version": 3
   },
   "file_extension": ".py",
   "mimetype": "text/x-python",
   "name": "python",
   "nbconvert_exporter": "python",
   "pygments_lexer": "ipython3",
   "version": "3.12.4"
  }
 },
 "nbformat": 4,
 "nbformat_minor": 2
}
